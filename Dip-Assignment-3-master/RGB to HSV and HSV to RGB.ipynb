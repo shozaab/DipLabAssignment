{
 "cells": [
  {
   "cell_type": "code",
   "execution_count": null,
   "metadata": {
    "collapsed": false
   },
   "outputs": [],
   "source": [
    "import sys\n",
    "import cv2\n",
    "\n",
    "img1 = cv2.imread('resberry.jpg', 1)\n",
    "hsv1 = cv2.cvtColor(img1, cv2.COLOR_RGB2HSV)\n",
    "h,s,v = cv2.split(hsv1)\n",
    "hsv2 = cv2.merge((h,s,v))\n",
    "img2 = cv2.cvtColor(hsv2, cv2.COLOR_HSV2RGB)\n",
    "\n",
    "cv2.imshow('img1',img1)\n",
    "cv2.imshow('hsv1',hsv1)\n",
    "cv2.imshow('h', h)\n",
    "cv2.imshow('s', s)\n",
    "cv2.imshow('v', v)\n",
    "cv2.imshow('hsv2',hsv2)\n",
    "cv2.imshow('img2',img2)\n",
    "\n",
    "cv2.waitKey(0)\n",
    "cv2.destroyAllWindow()"
   ]
  },
  {
   "cell_type": "code",
   "execution_count": null,
   "metadata": {
    "collapsed": true
   },
   "outputs": [],
   "source": []
  }
 ],
 "metadata": {
  "kernelspec": {
   "display_name": "Python 3",
   "language": "python",
   "name": "python3"
  },
  "language_info": {
   "codemirror_mode": {
    "name": "ipython",
    "version": 3
   },
   "file_extension": ".py",
   "mimetype": "text/x-python",
   "name": "python",
   "nbconvert_exporter": "python",
   "pygments_lexer": "ipython3",
   "version": "3.6.0"
  }
 },
 "nbformat": 4,
 "nbformat_minor": 2
}
