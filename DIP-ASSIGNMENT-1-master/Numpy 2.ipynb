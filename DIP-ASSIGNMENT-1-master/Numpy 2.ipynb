{
 "cells": [
  {
   "cell_type": "markdown",
   "metadata": {},
   "source": [
    "## Institute of Applied AI Engineers"
   ]
  },
  {
   "cell_type": "markdown",
   "metadata": {},
   "source": [
    "#### 1. Generate a 1D NumPy array containing numbers from -2 to 2 in increments of 0.2. Use optional start and step arguments of np.arange() function."
   ]
  },
  {
   "cell_type": "code",
   "execution_count": 1,
   "metadata": {
    "collapsed": false
   },
   "outputs": [
    {
     "data": {
      "text/plain": [
       "array([ -2.00000000e+00,  -1.80000000e+00,  -1.60000000e+00,\n",
       "        -1.40000000e+00,  -1.20000000e+00,  -1.00000000e+00,\n",
       "        -8.00000000e-01,  -6.00000000e-01,  -4.00000000e-01,\n",
       "        -2.00000000e-01,  -4.44089210e-16,   2.00000000e-01,\n",
       "         4.00000000e-01,   6.00000000e-01,   8.00000000e-01,\n",
       "         1.00000000e+00,   1.20000000e+00,   1.40000000e+00,\n",
       "         1.60000000e+00,   1.80000000e+00])"
      ]
     },
     "execution_count": 1,
     "metadata": {},
     "output_type": "execute_result"
    }
   ],
   "source": [
    "import numpy as np\n",
    "np.arange(-2,2,0.2)"
   ]
  },
  {
   "cell_type": "markdown",
   "metadata": {},
   "source": [
    "#### 2. Generate another 1D NumPy array containing 11 equally spaced values between 0.5 and 1.5. Extract every second element of the array"
   ]
  },
  {
   "cell_type": "code",
   "execution_count": 2,
   "metadata": {
    "collapsed": false
   },
   "outputs": [
    {
     "data": {
      "text/plain": [
       "array([ 0.5,  0.6,  0.7,  0.8,  0.9,  1. ,  1.1,  1.2,  1.3,  1.4,  1.5])"
      ]
     },
     "execution_count": 2,
     "metadata": {},
     "output_type": "execute_result"
    }
   ],
   "source": [
    "np.linspace(0.5,1.5,11)"
   ]
  },
  {
   "cell_type": "markdown",
   "metadata": {},
   "source": [
    "#### 3. Create a 4x4 array with arbitrary values.Extract every element from the second row.\n"
   ]
  },
  {
   "cell_type": "code",
   "execution_count": 4,
   "metadata": {
    "collapsed": true
   },
   "outputs": [],
   "source": [
    "b= np.random.randn(4,4)"
   ]
  },
  {
   "cell_type": "markdown",
   "metadata": {},
   "source": [
    "#### 4. Extract every element from the third column"
   ]
  },
  {
   "cell_type": "code",
   "execution_count": 5,
   "metadata": {
    "collapsed": false
   },
   "outputs": [
    {
     "data": {
      "text/plain": [
       "array([-0.49041993, -1.48488588, -2.901839  , -0.01269074])"
      ]
     },
     "execution_count": 5,
     "metadata": {},
     "output_type": "execute_result"
    }
   ],
   "source": [
    "b[:,2]"
   ]
  },
  {
   "cell_type": "markdown",
   "metadata": {},
   "source": [
    "#### 5. Assign a value of 0.21 to upper left 2x2 subarray."
   ]
  },
  {
   "cell_type": "code",
   "execution_count": 6,
   "metadata": {
    "collapsed": false
   },
   "outputs": [
    {
     "name": "stdout",
     "output_type": "stream",
     "text": [
      "[[ 0.21        0.21       -0.49041993 -0.14763616]\n",
      " [ 0.21        0.21       -1.48488588 -0.79672559]\n",
      " [-0.28984804  1.24002033 -2.901839    0.06202299]\n",
      " [ 0.39630373 -0.9421009  -0.01269074  0.83664255]]\n"
     ]
    }
   ],
   "source": [
    "b[0:2,0:2] =0.21\n",
    "print(b)"
   ]
  },
  {
   "cell_type": "markdown",
   "metadata": {},
   "source": [
    "#### 6. Read an 2D array from the file exercise1_4.dat. You can usethe function np.loadtxt():\n",
    "data = np.loadtxt(‘exercise1_4.dat’)\n",
    "\n",
    "#### Split the array into four subblocks (upper left, upper right, lower left, lower right) using np.split(). Construct then the full array again with np.concatenate(). You can visualize the various arrays with matplotlib’s imshow(), i.e. import pylab pylab.imshow(data)"
   ]
  },
  {
   "cell_type": "code",
   "execution_count": 7,
   "metadata": {
    "collapsed": false
   },
   "outputs": [
    {
     "name": "stdout",
     "output_type": "stream",
     "text": [
      "[2 3 4 5 6 7]\n"
     ]
    }
   ],
   "source": [
    "a =np.array((2,3,4,5,6,7))\n",
    "print(a)\n",
    "np.savetxt('test.dat', a, delimiter=',')"
   ]
  },
  {
   "cell_type": "code",
   "execution_count": 8,
   "metadata": {
    "collapsed": false
   },
   "outputs": [
    {
     "name": "stdout",
     "output_type": "stream",
     "text": [
      "[ 2.  3.  4.  5.  6.  7.]\n"
     ]
    }
   ],
   "source": [
    "b=np.loadtxt('test.dat')\n",
    "print(b)"
   ]
  },
  {
   "cell_type": "code",
   "execution_count": 9,
   "metadata": {
    "collapsed": false
   },
   "outputs": [
    {
     "name": "stdout",
     "output_type": "stream",
     "text": [
      "[ 2.  3.] [ 2.  3.] [ 6.  7.]\n"
     ]
    }
   ],
   "source": [
    "c =np.split(b,3)\n",
    "d=c[0]\n",
    "e=c[0]\n",
    "f=c[2]\n",
    "print(d,e,f)\n",
    "data =np.concatenate((d,e,f))"
   ]
  },
  {
   "cell_type": "code",
   "execution_count": null,
   "metadata": {
    "collapsed": true
   },
   "outputs": [],
   "source": []
  }
 ],
 "metadata": {
  "anaconda-cloud": {},
  "kernelspec": {
   "display_name": "Python [Root]",
   "language": "python",
   "name": "Python [Root]"
  },
  "language_info": {
   "codemirror_mode": {
    "name": "ipython",
    "version": 3
   },
   "file_extension": ".py",
   "mimetype": "text/x-python",
   "name": "python",
   "nbconvert_exporter": "python",
   "pygments_lexer": "ipython3",
   "version": "3.5.2"
  }
 },
 "nbformat": 4,
 "nbformat_minor": 0
}
